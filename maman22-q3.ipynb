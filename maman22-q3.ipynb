{
 "cells": [
  {
   "cell_type": "code",
   "execution_count": 1,
   "metadata": {},
   "outputs": [
    {
     "name": "stderr",
     "output_type": "stream",
     "text": [
      "2022-12-07 12:22:26.395164: I tensorflow/core/platform/cpu_feature_guard.cc:193] This TensorFlow binary is optimized with oneAPI Deep Neural Network Library (oneDNN) to use the following CPU instructions in performance-critical operations:  AVX2 FMA\n",
      "To enable them in other operations, rebuild TensorFlow with the appropriate compiler flags.\n",
      "2022-12-07 12:22:26.525264: W tensorflow/compiler/xla/stream_executor/platform/default/dso_loader.cc:64] Could not load dynamic library 'libcudart.so.11.0'; dlerror: libcudart.so.11.0: cannot open shared object file: No such file or directory; LD_LIBRARY_PATH: /home/vscode/.local/lib/python3.10/site-packages/cv2/../../lib64:\n",
      "2022-12-07 12:22:26.525292: I tensorflow/compiler/xla/stream_executor/cuda/cudart_stub.cc:29] Ignore above cudart dlerror if you do not have a GPU set up on your machine.\n",
      "2022-12-07 12:22:27.465641: W tensorflow/compiler/xla/stream_executor/platform/default/dso_loader.cc:64] Could not load dynamic library 'libnvinfer.so.7'; dlerror: libnvinfer.so.7: cannot open shared object file: No such file or directory; LD_LIBRARY_PATH: /home/vscode/.local/lib/python3.10/site-packages/cv2/../../lib64:\n",
      "2022-12-07 12:22:27.465869: W tensorflow/compiler/xla/stream_executor/platform/default/dso_loader.cc:64] Could not load dynamic library 'libnvinfer_plugin.so.7'; dlerror: libnvinfer_plugin.so.7: cannot open shared object file: No such file or directory; LD_LIBRARY_PATH: /home/vscode/.local/lib/python3.10/site-packages/cv2/../../lib64:\n",
      "2022-12-07 12:22:27.465886: W tensorflow/compiler/tf2tensorrt/utils/py_utils.cc:38] TF-TRT Warning: Cannot dlopen some TensorRT libraries. If you would like to use Nvidia GPU with TensorRT, please make sure the missing libraries mentioned above are installed properly.\n"
     ]
    }
   ],
   "source": [
    "import numpy as np\n",
    "import cv2\n",
    "import matplotlib.pyplot as plt\n",
    "import tensorflow as tf\n",
    "from sklearn import metrics\n",
    "import requests, os\n",
    "from zipfile import ZipFile\n",
    "import shutil\n",
    "from sklearn.cluster import MiniBatchKMeans \n",
    "import copy\n",
    "from sklearn import svm as SVM\n",
    "from sklearn.metrics import roc_curve, roc_auc_score, auc"
   ]
  },
  {
   "cell_type": "markdown",
   "metadata": {},
   "source": [
    "Consts"
   ]
  },
  {
   "cell_type": "code",
   "execution_count": 2,
   "metadata": {},
   "outputs": [],
   "source": [
    "ZIP_PATH = \"http://people.csail.mit.edu/torralba/code/spatialenvelope/spatial_envelope_256x256_static_8outdoorcategories.zip\"\n",
    "filename = ZIP_PATH.split(\"/\")[-1]\n",
    "foldername = filename.split(\".\")[0]\n",
    "images_folder='images'\n",
    "SIZE_OF_HIST = 8\n",
    "k = 100\n",
    "FIRST_LABEL = 'forest'\n",
    "SECOND_LABEL = 'mountain'"
   ]
  },
  {
   "cell_type": "markdown",
   "metadata": {},
   "source": [
    "Helper Functions"
   ]
  },
  {
   "cell_type": "code",
   "execution_count": 3,
   "metadata": {},
   "outputs": [],
   "source": [
    "'''\n",
    "Download and unzip file\n",
    "'''\n",
    "def load_files():    \n",
    "    with open(filename, \"wb\") as f:\n",
    "        r = requests.get(ZIP_PATH)\n",
    "        f.write(r.content)\n",
    "    with ZipFile(filename, 'r') as zip_ref:\n",
    "        zip_ref.extractall()\n",
    "        nameList = zip_ref.namelist()\n",
    "        imgs = [name.split(\"/\")[-1] for name in nameList if name.endswith('.jpg')]\n",
    "        forest_images = [name for name in imgs if name.startswith(FIRST_LABEL+'_')]\n",
    "        mountain_images = [name for name in imgs if name.startswith(SECOND_LABEL+'_')]\n",
    "    shutil.move(foldername, images_folder)\n",
    "    return forest_images,mountain_images\n"
   ]
  },
  {
   "cell_type": "code",
   "execution_count": 4,
   "metadata": {},
   "outputs": [],
   "source": [
    "def prepare_set(image_names, precent):\n",
    "    num_imgs = len(image_names)\n",
    "    split_index = int(num_imgs*precent)\n",
    "    train_set = image_names[:split_index-1]\n",
    "    test_set = image_names[split_index:]\n",
    "    return train_set, test_set"
   ]
  },
  {
   "cell_type": "code",
   "execution_count": 5,
   "metadata": {},
   "outputs": [],
   "source": [
    "def get_image_by_name(filename):\n",
    "    filename = images_folder+'//' + filename\n",
    "    image = cv2.imread(filename)\n",
    "    return image\n"
   ]
  },
  {
   "cell_type": "code",
   "execution_count": 6,
   "metadata": {},
   "outputs": [],
   "source": [
    "def convert_image_to_gray(image):\n",
    "    return cv2.cvtColor(image, cv2.COLOR_BGR2GRAY)"
   ]
  },
  {
   "cell_type": "markdown",
   "metadata": {},
   "source": [
    "1. Compute dense SIFT from the images"
   ]
  },
  {
   "cell_type": "code",
   "execution_count": 7,
   "metadata": {},
   "outputs": [],
   "source": [
    "def get_danse_SIFT(filename):\n",
    "    image = get_image_by_name(filename)\n",
    "    gray_image = convert_image_to_gray(image)\n",
    "    sift = cv2.SIFT_create()\n",
    "    key_point = [cv2.KeyPoint(x, y, SIZE_OF_HIST) for x in range(0, gray_image.shape[0], SIZE_OF_HIST) for y in range(0, gray_image.shape[1], SIZE_OF_HIST)]\n",
    "    dense_shift = sift.compute(image, key_point)[1]\n",
    "    return dense_shift.astype(float) "
   ]
  },
  {
   "cell_type": "code",
   "execution_count": 8,
   "metadata": {},
   "outputs": [],
   "source": [
    "def get_all_hists(x_train):\n",
    "    all_hists = []\n",
    "    for elm in x_train:\n",
    "        dense_sift = get_danse_SIFT(elm)\n",
    "        for c in dense_sift:\n",
    "            all_hists.append(c)\n",
    "    return np.array(all_hists)"
   ]
  },
  {
   "cell_type": "code",
   "execution_count": 9,
   "metadata": {},
   "outputs": [],
   "source": [
    "def calculate_kmeans(all_train_desc, k):\n",
    "    kmeans = MiniBatchKMeans (n_clusters=k, random_state=0, batch_size=1000, max_iter=100000)\n",
    "    kmeans.fit(all_train_desc)\n",
    "    return kmeans"
   ]
  },
  {
   "cell_type": "code",
   "execution_count": 10,
   "metadata": {},
   "outputs": [],
   "source": [
    "def get_numeric(name):\n",
    "    if name == FIRST_LABEL:\n",
    "        return 0\n",
    "    elif name == SECOND_LABEL:\n",
    "        return 1\n",
    "    else:\n",
    "        return -1"
   ]
  },
  {
   "cell_type": "code",
   "execution_count": 11,
   "metadata": {},
   "outputs": [],
   "source": [
    "# form training set histograms for each training image using BoW representation\n",
    "def calculate_histogram(x_train, kmeans, k):\n",
    "    hist_set = []\n",
    "    set_y = []\n",
    "    for elm in x_train:\n",
    "        predict = kmeans.predict(get_danse_SIFT(elm))\n",
    "        hist, _ = np.histogram(predict, bins=np.arange(100), density=True)\n",
    "        hist_set.append(np.asarray(hist))\n",
    "        set_y.append(get_numeric(elm.split('_')[0]))     \n",
    "    return np.array(hist_set), np.array(set_y)"
   ]
  },
  {
   "cell_type": "code",
   "execution_count": 12,
   "metadata": {},
   "outputs": [],
   "source": [
    "def train_svm(x, y, c):\n",
    "    # Train an SVM classifier\n",
    "    svm = SVM.SVC(C=c, cache_size=4000, probability=True)\n",
    "    svm.fit(x, y)    \n",
    "    return svm"
   ]
  },
  {
   "cell_type": "code",
   "execution_count": 13,
   "metadata": {},
   "outputs": [],
   "source": [
    "def create_train_test_sets(precent=0.8):\n",
    "    images_set1,images_set2 = load_files()\n",
    "    train_set_1, test_set_1 = prepare_set(images_set1, precent)\n",
    "    train_set_2, test_set_2 = prepare_set(images_set2, precent)\n",
    "    train_set = train_set_1+train_set_2\n",
    "    test_set = test_set_1+test_set_2\n",
    "    return train_set, test_set"
   ]
  },
  {
   "cell_type": "code",
   "execution_count": 14,
   "metadata": {},
   "outputs": [],
   "source": [
    "train_set, test_set = create_train_test_sets()\n",
    "all_hists_x = get_all_hists(train_set)\n",
    "kmeans = calculate_kmeans(all_hists_x, k)\n",
    "train_x, train_y  = calculate_histogram(train_set, kmeans, k)\n",
    "test_x, test_y = calculate_histogram(test_set, kmeans, k)"
   ]
  },
  {
   "cell_type": "code",
   "execution_count": 34,
   "metadata": {},
   "outputs": [],
   "source": [
    "def svm_bow(train_x, train_y, test_x, test_y, C=10.0, k=100):\n",
    "    svm = train_svm(train_x,train_y, C)\n",
    "    predict = svm.predict(test_x)\n",
    "    return predict, metrics.roc_auc_score(predict, test_y) * k, svm\n",
    "   "
   ]
  },
  {
   "cell_type": "code",
   "execution_count": 35,
   "metadata": {},
   "outputs": [
    {
     "name": "stdout",
     "output_type": "stream",
     "text": [
      "the Prediction Accuracy Score is: 95.72727272727273\n"
     ]
    }
   ],
   "source": [
    "_, accuracy, _ = svm_bow(train_x, train_y, test_x, test_y)\n",
    "print(\"the Prediction Accuracy Score is: \" + str(accuracy))"
   ]
  },
  {
   "cell_type": "code",
   "execution_count": 36,
   "metadata": {},
   "outputs": [
    {
     "name": "stdout",
     "output_type": "stream",
     "text": [
      "the Prediction Accuracy Score is: 94.58962841976319\n"
     ]
    },
    {
     "name": "stderr",
     "output_type": "stream",
     "text": [
      "/home/vscode/.local/lib/python3.10/site-packages/sklearn/utils/deprecation.py:87: FutureWarning: Function plot_roc_curve is deprecated; This will be removed in v0.5.0. Please use scikitplot.metrics.plot_roc instead.\n",
      "  warnings.warn(msg, category=FutureWarning)\n"
     ]
    },
    {
     "ename": "TypeError",
     "evalue": "len() of unsized object",
     "output_type": "error",
     "traceback": [
      "\u001b[0;31m---------------------------------------------------------------------------\u001b[0m",
      "\u001b[0;31mTypeError\u001b[0m                                 Traceback (most recent call last)",
      "Cell \u001b[0;32mIn[36], line 12\u001b[0m\n\u001b[1;32m     10\u001b[0m     false_positive_rate, true_positive_rate, threshold \u001b[39m=\u001b[39m roc_curve(test_y, predict)\n\u001b[1;32m     11\u001b[0m     predictionScorePlot\u001b[39m.\u001b[39mplot(false_positive_rate, true_positive_rate)\n\u001b[0;32m---> 12\u001b[0m     plot \u001b[39m=\u001b[39m skplt\u001b[39m.\u001b[39;49mmetrics\u001b[39m.\u001b[39;49mplot_roc_curve(svm, test_x, test_y)\n\u001b[1;32m     13\u001b[0m plt\u001b[39m.\u001b[39mtitle(\u001b[39m\"\u001b[39m\u001b[39mROC Curves - K-Nearest Neighbors\u001b[39m\u001b[39m\"\u001b[39m)\n\u001b[1;32m     14\u001b[0m plt\u001b[39m.\u001b[39mshow()\n",
      "File \u001b[0;32m~/.local/lib/python3.10/site-packages/sklearn/utils/deprecation.py:88\u001b[0m, in \u001b[0;36mdeprecated._decorate_fun.<locals>.wrapped\u001b[0;34m(*args, **kwargs)\u001b[0m\n\u001b[1;32m     85\u001b[0m \u001b[39m@functools\u001b[39m\u001b[39m.\u001b[39mwraps(fun)\n\u001b[1;32m     86\u001b[0m \u001b[39mdef\u001b[39;00m \u001b[39mwrapped\u001b[39m(\u001b[39m*\u001b[39margs, \u001b[39m*\u001b[39m\u001b[39m*\u001b[39mkwargs):\n\u001b[1;32m     87\u001b[0m     warnings\u001b[39m.\u001b[39mwarn(msg, category\u001b[39m=\u001b[39m\u001b[39mFutureWarning\u001b[39;00m)\n\u001b[0;32m---> 88\u001b[0m     \u001b[39mreturn\u001b[39;00m fun(\u001b[39m*\u001b[39;49margs, \u001b[39m*\u001b[39;49m\u001b[39m*\u001b[39;49mkwargs)\n",
      "File \u001b[0;32m~/.local/lib/python3.10/site-packages/scikitplot/metrics.py:257\u001b[0m, in \u001b[0;36mplot_roc_curve\u001b[0;34m(y_true, y_probas, title, curves, ax, figsize, cmap, title_fontsize, text_fontsize)\u001b[0m\n\u001b[1;32m    255\u001b[0m roc_auc \u001b[39m=\u001b[39m \u001b[39mdict\u001b[39m()\n\u001b[1;32m    256\u001b[0m \u001b[39mfor\u001b[39;00m i \u001b[39min\u001b[39;00m \u001b[39mrange\u001b[39m(\u001b[39mlen\u001b[39m(classes)):\n\u001b[0;32m--> 257\u001b[0m     fpr[i], tpr[i], _ \u001b[39m=\u001b[39m roc_curve(y_true, probas[:, i],\n\u001b[1;32m    258\u001b[0m                                   pos_label\u001b[39m=\u001b[39;49mclasses[i])\n\u001b[1;32m    259\u001b[0m     roc_auc[i] \u001b[39m=\u001b[39m auc(fpr[i], tpr[i])\n\u001b[1;32m    261\u001b[0m \u001b[39m# Compute micro-average ROC curve and ROC area\u001b[39;00m\n",
      "File \u001b[0;32m~/.local/lib/python3.10/site-packages/sklearn/metrics/_ranking.py:981\u001b[0m, in \u001b[0;36mroc_curve\u001b[0;34m(y_true, y_score, pos_label, sample_weight, drop_intermediate)\u001b[0m\n\u001b[1;32m    892\u001b[0m \u001b[39mdef\u001b[39;00m \u001b[39mroc_curve\u001b[39m(\n\u001b[1;32m    893\u001b[0m     y_true, y_score, \u001b[39m*\u001b[39m, pos_label\u001b[39m=\u001b[39m\u001b[39mNone\u001b[39;00m, sample_weight\u001b[39m=\u001b[39m\u001b[39mNone\u001b[39;00m, drop_intermediate\u001b[39m=\u001b[39m\u001b[39mTrue\u001b[39;00m\n\u001b[1;32m    894\u001b[0m ):\n\u001b[1;32m    895\u001b[0m     \u001b[39m\"\"\"Compute Receiver operating characteristic (ROC).\u001b[39;00m\n\u001b[1;32m    896\u001b[0m \n\u001b[1;32m    897\u001b[0m \u001b[39m    Note: this implementation is restricted to the binary classification task.\u001b[39;00m\n\u001b[0;32m   (...)\u001b[0m\n\u001b[1;32m    979\u001b[0m \n\u001b[1;32m    980\u001b[0m \u001b[39m    \"\"\"\u001b[39;00m\n\u001b[0;32m--> 981\u001b[0m     fps, tps, thresholds \u001b[39m=\u001b[39m _binary_clf_curve(\n\u001b[1;32m    982\u001b[0m         y_true, y_score, pos_label\u001b[39m=\u001b[39;49mpos_label, sample_weight\u001b[39m=\u001b[39;49msample_weight\n\u001b[1;32m    983\u001b[0m     )\n\u001b[1;32m    985\u001b[0m     \u001b[39m# Attempt to drop thresholds corresponding to points in between and\u001b[39;00m\n\u001b[1;32m    986\u001b[0m     \u001b[39m# collinear with other points. These are always suboptimal and do not\u001b[39;00m\n\u001b[1;32m    987\u001b[0m     \u001b[39m# appear on a plotted ROC curve (and thus do not affect the AUC).\u001b[39;00m\n\u001b[0;32m   (...)\u001b[0m\n\u001b[1;32m    992\u001b[0m     \u001b[39m# but does not drop more complicated cases like fps = [1, 3, 7],\u001b[39;00m\n\u001b[1;32m    993\u001b[0m     \u001b[39m# tps = [1, 2, 4]; there is no harm in keeping too many thresholds.\u001b[39;00m\n\u001b[1;32m    994\u001b[0m     \u001b[39mif\u001b[39;00m drop_intermediate \u001b[39mand\u001b[39;00m \u001b[39mlen\u001b[39m(fps) \u001b[39m>\u001b[39m \u001b[39m2\u001b[39m:\n",
      "File \u001b[0;32m~/.local/lib/python3.10/site-packages/sklearn/metrics/_ranking.py:738\u001b[0m, in \u001b[0;36m_binary_clf_curve\u001b[0;34m(y_true, y_score, pos_label, sample_weight)\u001b[0m\n\u001b[1;32m    704\u001b[0m \u001b[39m\"\"\"Calculate true and false positives per binary classification threshold.\u001b[39;00m\n\u001b[1;32m    705\u001b[0m \n\u001b[1;32m    706\u001b[0m \u001b[39mParameters\u001b[39;00m\n\u001b[0;32m   (...)\u001b[0m\n\u001b[1;32m    735\u001b[0m \u001b[39m    Decreasing score values.\u001b[39;00m\n\u001b[1;32m    736\u001b[0m \u001b[39m\"\"\"\u001b[39;00m\n\u001b[1;32m    737\u001b[0m \u001b[39m# Check to make sure y_true is valid\u001b[39;00m\n\u001b[0;32m--> 738\u001b[0m y_type \u001b[39m=\u001b[39m type_of_target(y_true, input_name\u001b[39m=\u001b[39;49m\u001b[39m\"\u001b[39;49m\u001b[39my_true\u001b[39;49m\u001b[39m\"\u001b[39;49m)\n\u001b[1;32m    739\u001b[0m \u001b[39mif\u001b[39;00m \u001b[39mnot\u001b[39;00m (y_type \u001b[39m==\u001b[39m \u001b[39m\"\u001b[39m\u001b[39mbinary\u001b[39m\u001b[39m\"\u001b[39m \u001b[39mor\u001b[39;00m (y_type \u001b[39m==\u001b[39m \u001b[39m\"\u001b[39m\u001b[39mmulticlass\u001b[39m\u001b[39m\"\u001b[39m \u001b[39mand\u001b[39;00m pos_label \u001b[39mis\u001b[39;00m \u001b[39mnot\u001b[39;00m \u001b[39mNone\u001b[39;00m)):\n\u001b[1;32m    740\u001b[0m     \u001b[39mraise\u001b[39;00m \u001b[39mValueError\u001b[39;00m(\u001b[39m\"\u001b[39m\u001b[39m{0}\u001b[39;00m\u001b[39m format is not supported\u001b[39m\u001b[39m\"\u001b[39m\u001b[39m.\u001b[39mformat(y_type))\n",
      "File \u001b[0;32m~/.local/lib/python3.10/site-packages/sklearn/utils/multiclass.py:318\u001b[0m, in \u001b[0;36mtype_of_target\u001b[0;34m(y, input_name)\u001b[0m\n\u001b[1;32m    315\u001b[0m     \u001b[39mpass\u001b[39;00m\n\u001b[1;32m    317\u001b[0m \u001b[39m# Invalid inputs\u001b[39;00m\n\u001b[0;32m--> 318\u001b[0m \u001b[39mif\u001b[39;00m y\u001b[39m.\u001b[39mndim \u001b[39m>\u001b[39m \u001b[39m2\u001b[39m \u001b[39mor\u001b[39;00m (y\u001b[39m.\u001b[39mdtype \u001b[39m==\u001b[39m \u001b[39mobject\u001b[39m \u001b[39mand\u001b[39;00m \u001b[39mlen\u001b[39;49m(y) \u001b[39mand\u001b[39;00m \u001b[39mnot\u001b[39;00m \u001b[39misinstance\u001b[39m(y\u001b[39m.\u001b[39mflat[\u001b[39m0\u001b[39m], \u001b[39mstr\u001b[39m)):\n\u001b[1;32m    319\u001b[0m     \u001b[39mreturn\u001b[39;00m \u001b[39m\"\u001b[39m\u001b[39munknown\u001b[39m\u001b[39m\"\u001b[39m  \u001b[39m# [[[1, 2]]] or [obj_1] and not [\"label_1\"]\u001b[39;00m\n\u001b[1;32m    321\u001b[0m \u001b[39mif\u001b[39;00m y\u001b[39m.\u001b[39mndim \u001b[39m==\u001b[39m \u001b[39m2\u001b[39m \u001b[39mand\u001b[39;00m y\u001b[39m.\u001b[39mshape[\u001b[39m1\u001b[39m] \u001b[39m==\u001b[39m \u001b[39m0\u001b[39m:\n",
      "\u001b[0;31mTypeError\u001b[0m: len() of unsized object"
     ]
    },
    {
     "data": {
      "image/png": "[encoded data removed]",
      "text/plain": [
       "<Figure size 640x480 with 2 Axes>"
      ]
     },
     "metadata": {},
     "output_type": "display_data"
    }
   ],
   "source": [
    "import scikitplot as skplt\n",
    "c_params = [0.05, 0.5, 1.0, 5.0, 10.0, 50.0, 100.0]\n",
    "accuracies = []\n",
    "figure, (predictionScorePlot, rocPlot) = plt.subplots(1,2, constrained_layout=True)\n",
    "for c in c_params:\n",
    "    predict, accuracy, svm = svm_bow(train_x, train_y, test_x, test_y, C=c)\n",
    "    print(\"the Prediction Accuracy Score is: \" + str(accuracy))\n",
    "    accuracies.append(accuracy)\n",
    "    # \n",
    "    false_positive_rate, true_positive_rate, threshold = roc_curve(test_y, predict)\n",
    "    predictionScorePlot.plot(false_positive_rate, true_positive_rate)\n",
    "    plot = skplt.metrics.plot_roc_curve(svm, test_x, test_y)\n",
    "plt.title(\"ROC Curves - K-Nearest Neighbors\")\n",
    "plt.show()\n",
    "# sets the x,y labels and title of ROC curve and plot it\n",
    "rocPlot.set_title('ROC curve ')\n",
    "\n",
    "#rocPlot.show()\n",
    "predictionScorePlot.set_title('prediction score by C = ' + str(c_params))\n",
    "predictionScorePlot.plot(accuracies)\n",
    "# displays the figure\n",
    "plt.show()"
   ]
  },
  {
   "cell_type": "code",
   "execution_count": null,
   "metadata": {},
   "outputs": [],
   "source": []
  },
  {
   "cell_type": "code",
   "execution_count": 37,
   "metadata": {},
   "outputs": [
    {
     "ename": "TypeError",
     "evalue": "'ignore_errors' is an invalid keyword argument for remove()",
     "output_type": "error",
     "traceback": [
      "\u001b[0;31m---------------------------------------------------------------------------\u001b[0m",
      "\u001b[0;31mTypeError\u001b[0m                                 Traceback (most recent call last)",
      "Cell \u001b[0;32mIn[37], line 3\u001b[0m\n\u001b[1;32m      1\u001b[0m shutil\u001b[39m.\u001b[39mrmtree(foldername, ignore_errors\u001b[39m=\u001b[39m\u001b[39mTrue\u001b[39;00m)\n\u001b[1;32m      2\u001b[0m shutil\u001b[39m.\u001b[39mrmtree(images_folder, ignore_errors\u001b[39m=\u001b[39m\u001b[39mTrue\u001b[39;00m)\n\u001b[0;32m----> 3\u001b[0m os\u001b[39m.\u001b[39;49mremove(filename, ignore_errors\u001b[39m=\u001b[39;49m\u001b[39mTrue\u001b[39;49;00m)\n",
      "\u001b[0;31mTypeError\u001b[0m: 'ignore_errors' is an invalid keyword argument for remove()"
     ]
    }
   ],
   "source": [
    "shutil.rmtree(foldername, ignore_errors=True)\n",
    "shutil.rmtree(images_folder, ignore_errors=True)\n",
    "os.remove(filename)"
   ]
  }
 ],
 "metadata": {
  "kernelspec": {
   "display_name": "Python 3.10.8 64-bit",
   "language": "python",
   "name": "python3"
  },
  "language_info": {
   "codemirror_mode": {
    "name": "ipython",
    "version": 3
   },
   "file_extension": ".py",
   "mimetype": "text/x-python",
   "name": "python",
   "nbconvert_exporter": "python",
   "pygments_lexer": "ipython3",
   "version": "3.10.8"
  },
  "orig_nbformat": 4,
  "vscode": {
   "interpreter": {
    "hash": "949777d72b0d2535278d3dc13498b2535136f6dfe0678499012e853ee9abcab1"
   }
  }
 },
 "nbformat": 4,
 "nbformat_minor": 2
}
