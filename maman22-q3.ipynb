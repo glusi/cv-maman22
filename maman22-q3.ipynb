{
 "cells": [
  {
   "cell_type": "code",
   "execution_count": 8,
   "metadata": {},
   "outputs": [],
   "source": [
    "import numpy as np\n",
    "import cv2\n",
    "import matplotlib.pyplot as plt\n",
    "import tensorflow as tf\n",
    "from sklearn import metrics\n",
    "import requests, os\n",
    "from zipfile import ZipFile\n",
    "import shutil\n",
    "from sklearn.cluster import MiniBatchKMeans \n",
    "import copy\n",
    "from sklearn import svm as SVM"
   ]
  },
  {
   "cell_type": "markdown",
   "metadata": {},
   "source": [
    "Consts"
   ]
  },
  {
   "cell_type": "code",
   "execution_count": 9,
   "metadata": {},
   "outputs": [],
   "source": [
    "ZIP_PATH = \"http://people.csail.mit.edu/torralba/code/spatialenvelope/spatial_envelope_256x256_static_8outdoorcategories.zip\""
   ]
  },
  {
   "cell_type": "markdown",
   "metadata": {},
   "source": [
    "Helper Functions"
   ]
  },
  {
   "cell_type": "code",
   "execution_count": 10,
   "metadata": {},
   "outputs": [],
   "source": [
    "'''\n",
    "Download and unzip file\n",
    "'''\n",
    "def load_files():\n",
    "    filename = ZIP_PATH.split(\"/\")[-1]\n",
    "    with open(filename, \"wb\") as f:\n",
    "        r = requests.get(ZIP_PATH)\n",
    "        f.write(r.content)\n",
    "    foldername = filename.split(\".\")[0]\n",
    "    with ZipFile(filename, 'r') as zip_ref:\n",
    "        zip_ref.extractall()\n",
    "        nameList = zip_ref.namelist()\n",
    "        imgs = [name.split(\"/\")[-1] for name in nameList if name.endswith('.jpg')]\n",
    "        forest_images = [name for name in imgs if name.startswith('forest_')]\n",
    "        mountain_images = [name for name in imgs if name.startswith('mountain_')]\n",
    "    shutil.move(foldername, 'images')\n",
    "    return forest_images,mountain_images\n"
   ]
  },
  {
   "cell_type": "code",
   "execution_count": 11,
   "metadata": {},
   "outputs": [],
   "source": [
    "def prepare_set(image_names):\n",
    "    num_imgs = len(image_names)\n",
    "    split_index = int(num_imgs*0.8)\n",
    "    train_set = image_names[:split_index-1]\n",
    "    test_set = image_names[split_index:]\n",
    "    return train_set, test_set"
   ]
  },
  {
   "cell_type": "code",
   "execution_count": 12,
   "metadata": {},
   "outputs": [],
   "source": [
    "images_set1,images_set2 = load_files()\n",
    "train_set_1, test_set_1 = prepare_set(images_set1)\n",
    "train_set_2, test_set_2 = prepare_set(images_set2)\n",
    "train_set = train_set_1+train_set_2\n",
    "test_set = test_set_1+test_set_2"
   ]
  },
  {
   "cell_type": "code",
   "execution_count": 13,
   "metadata": {},
   "outputs": [],
   "source": [
    "def get_image_by_name(filename):\n",
    "    filename = 'images//' + filename\n",
    "    image = cv2.imread(filename)\n",
    "    return image\n"
   ]
  },
  {
   "cell_type": "markdown",
   "metadata": {},
   "source": [
    "1. Compute dense SIFT from the images"
   ]
  },
  {
   "cell_type": "code",
   "execution_count": 14,
   "metadata": {},
   "outputs": [],
   "source": [
    "def get_danse_SIFT(filename):\n",
    "    image = get_image_by_name(filename)\n",
    "    gray_image = cv2.cvtColor(image, cv2.COLOR_BGR2GRAY)\n",
    "    sift = cv2.SIFT_create()\n",
    "    key_point = [cv2.KeyPoint(x, y, 8) for x in range(0, gray_image.shape[0], 8) for y in range(0, gray_image.shape[1], 8)]\n",
    "    dense_shift = sift.compute(image, key_point)[1]\n",
    "    return dense_shift "
   ]
  },
  {
   "cell_type": "code",
   "execution_count": 15,
   "metadata": {},
   "outputs": [],
   "source": [
    "def get_dense_sift_set(image_set):\n",
    "    set_x = []\n",
    "    set_y = []\n",
    "    for filename in image_set:\n",
    "        res = get_danse_SIFT(filename)\n",
    "        set_x.append(res)\n",
    "        set_y.append(filename)     \n",
    "    return set_x, set_y"
   ]
  },
  {
   "cell_type": "code",
   "execution_count": 16,
   "metadata": {},
   "outputs": [],
   "source": [
    "x_train, y_train = get_dense_sift_set(train_set)\n",
    "x_test, y_test = get_dense_sift_set(test_set)"
   ]
  },
  {
   "cell_type": "code",
   "execution_count": 17,
   "metadata": {},
   "outputs": [
    {
     "name": "stdout",
     "output_type": "stream",
     "text": [
      "559\n",
      "559\n"
     ]
    }
   ],
   "source": [
    "print(len(x_train))\n",
    "print(len(y_train))"
   ]
  },
  {
   "cell_type": "code",
   "execution_count": 18,
   "metadata": {},
   "outputs": [],
   "source": [
    "#for c in train_x:\n",
    "#    denseSift = getDenseSift(c)\n",
    "#    denseSiftLength = len(denseSift)\n",
    "#    for index in range(denseSiftLength):\n",
    "#        lines[int(numOfLines * cCounter + index)] = denseSift[index]\n",
    "#    cCounter += 1\n",
    "#kmeans = MiniBatchKMeans(n_clusters=2, random_state=0, batch_size=6, max_iter=10)\n",
    "#kmeans.fit(lines)\n",
    "#get_sets_x_y(train_set, kmeans)"
   ]
  },
  {
   "cell_type": "code",
   "execution_count": 19,
   "metadata": {},
   "outputs": [],
   "source": [
    "def get_all_hists(x_train, y_train):\n",
    "    print(len(x_train))\n",
    "    print(len(y_train))\n",
    "    all_train_x = []\n",
    "    all_train_y = []\n",
    "    for i in range(len(x_train)):\n",
    "        for j in range(x_train[i].shape[0]):\n",
    "            all_train_x.append(x_train[i][j,:])\n",
    "            all_train_y.append(y_train[i])\n",
    "    return np.array(all_train_x),np.array(all_train_y)"
   ]
  },
  {
   "cell_type": "code",
   "execution_count": 20,
   "metadata": {},
   "outputs": [],
   "source": [
    "def calculate_kmeans(all_train_desc, k):\n",
    "    kmeans = MiniBatchKMeans (n_clusters=k)\n",
    "    kmeans.fit(all_train_desc)\n",
    "    return kmeans"
   ]
  },
  {
   "cell_type": "code",
   "execution_count": 21,
   "metadata": {},
   "outputs": [],
   "source": [
    "# form training set histograms for each training image using BoW representation\n",
    "def calculate_histogram(x_train, kmeans, k):\n",
    "    hist_set = []\n",
    "    set_y = []\n",
    "    for elm in x_train:\n",
    "        predict = kmeans.predict(elm)\n",
    "        hist_set.append(np.bincount(predict, minlength=k).reshape(1,-1).ravel())\n",
    "        set_y.append(elm)     \n",
    "    return np.array(hist_set), np.array(set_y)"
   ]
  },
  {
   "cell_type": "code",
   "execution_count": 22,
   "metadata": {},
   "outputs": [
    {
     "name": "stdout",
     "output_type": "stream",
     "text": [
      "559\n",
      "559\n"
     ]
    }
   ],
   "source": [
    "k = 100\n",
    "all_hists_x, all_hists_y = get_all_hists(x_train, y_train)\n",
    "kmeans = calculate_kmeans(all_hists_x, k)\n"
   ]
  },
  {
   "cell_type": "code",
   "execution_count": 23,
   "metadata": {},
   "outputs": [],
   "source": [
    "train_hist, train_y  = calculate_histogram(x_train, kmeans, k)\n",
    "test_hist, test_y = calculate_histogram(x_test, kmeans, k)"
   ]
  },
  {
   "cell_type": "code",
   "execution_count": 24,
   "metadata": {},
   "outputs": [],
   "source": [
    "def train_svm(X, y):\n",
    "    # Train an SVM classifier\n",
    "    svm = SVM.SVC(kernel=\"linear\", cache_size=4000)\n",
    "    svm.fit(X, y)    \n",
    "    return svm"
   ]
  },
  {
   "cell_type": "code",
   "execution_count": 25,
   "metadata": {},
   "outputs": [
    {
     "name": "stdout",
     "output_type": "stream",
     "text": [
      "(559, 100)\n",
      "(559, 1024, 128)\n"
     ]
    }
   ],
   "source": [
    "print(train_hist.shape)\n",
    "print(train_y.shape)\n",
    "svm = train_svm(all_hists_x,all_hists_y)\n"
   ]
  },
  {
   "cell_type": "code",
   "execution_count": null,
   "metadata": {},
   "outputs": [],
   "source": [
    "#for image in test_hist:\n",
    "predict = svm.predict(train_y)\n",
    "accuracyScore = metrics.accuracy_score(predict, test_y) * 100\n",
    "print(\"the Prediction Accuracy Score is: \" + str(accuracyScore) + \"%, C is: \" +image)"
   ]
  },
  {
   "cell_type": "code",
   "execution_count": null,
   "metadata": {},
   "outputs": [],
   "source": [
    "#os.rmdir(foldername)"
   ]
  }
 ],
 "metadata": {
  "kernelspec": {
   "display_name": "Python 3.10.8 64-bit",
   "language": "python",
   "name": "python3"
  },
  "language_info": {
   "codemirror_mode": {
    "name": "ipython",
    "version": 3
   },
   "file_extension": ".py",
   "mimetype": "text/x-python",
   "name": "python",
   "nbconvert_exporter": "python",
   "pygments_lexer": "ipython3",
   "version": "3.10.8"
  },
  "orig_nbformat": 4,
  "vscode": {
   "interpreter": {
    "hash": "949777d72b0d2535278d3dc13498b2535136f6dfe0678499012e853ee9abcab1"
   }
  }
 },
 "nbformat": 4,
 "nbformat_minor": 2
}
